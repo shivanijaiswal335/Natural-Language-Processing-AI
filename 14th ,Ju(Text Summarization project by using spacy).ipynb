{
 "cells": [
  {
   "cell_type": "code",
   "execution_count": 1,
   "id": "948abb9f",
   "metadata": {},
   "outputs": [
    {
     "name": "stdout",
     "output_type": "stream",
     "text": [
      "Requirement already satisfied: spacy in c:\\users\\hp\\downloads\\new folder\\lib\\site-packages (3.6.0)\n",
      "Requirement already satisfied: setuptools in c:\\users\\hp\\downloads\\new folder\\lib\\site-packages (from spacy) (65.6.3)\n",
      "Requirement already satisfied: wasabi<1.2.0,>=0.9.1 in c:\\users\\hp\\downloads\\new folder\\lib\\site-packages (from spacy) (1.1.2)\n",
      "Requirement already satisfied: tqdm<5.0.0,>=4.38.0 in c:\\users\\hp\\downloads\\new folder\\lib\\site-packages (from spacy) (4.64.1)\n",
      "Requirement already satisfied: murmurhash<1.1.0,>=0.28.0 in c:\\users\\hp\\downloads\\new folder\\lib\\site-packages (from spacy) (1.0.9)\n",
      "Requirement already satisfied: preshed<3.1.0,>=3.0.2 in c:\\users\\hp\\downloads\\new folder\\lib\\site-packages (from spacy) (3.0.8)\n",
      "Requirement already satisfied: srsly<3.0.0,>=2.4.3 in c:\\users\\hp\\downloads\\new folder\\lib\\site-packages (from spacy) (2.4.7)\n",
      "Requirement already satisfied: numpy>=1.15.0 in c:\\users\\hp\\downloads\\new folder\\lib\\site-packages (from spacy) (1.23.5)\n",
      "Requirement already satisfied: requests<3.0.0,>=2.13.0 in c:\\users\\hp\\downloads\\new folder\\lib\\site-packages (from spacy) (2.28.1)\n",
      "Requirement already satisfied: pydantic!=1.8,!=1.8.1,<1.11.0,>=1.7.4 in c:\\users\\hp\\downloads\\new folder\\lib\\site-packages (from spacy) (1.10.11)\n",
      "Requirement already satisfied: langcodes<4.0.0,>=3.2.0 in c:\\users\\hp\\downloads\\new folder\\lib\\site-packages (from spacy) (3.3.0)\n",
      "Requirement already satisfied: spacy-legacy<3.1.0,>=3.0.11 in c:\\users\\hp\\downloads\\new folder\\lib\\site-packages (from spacy) (3.0.12)\n",
      "Requirement already satisfied: typer<0.10.0,>=0.3.0 in c:\\users\\hp\\downloads\\new folder\\lib\\site-packages (from spacy) (0.9.0)\n",
      "Requirement already satisfied: pathy>=0.10.0 in c:\\users\\hp\\downloads\\new folder\\lib\\site-packages (from spacy) (0.10.2)\n",
      "Requirement already satisfied: spacy-loggers<2.0.0,>=1.0.0 in c:\\users\\hp\\downloads\\new folder\\lib\\site-packages (from spacy) (1.0.4)\n",
      "Requirement already satisfied: smart-open<7.0.0,>=5.2.1 in c:\\users\\hp\\downloads\\new folder\\lib\\site-packages (from spacy) (5.2.1)\n",
      "Requirement already satisfied: thinc<8.2.0,>=8.1.8 in c:\\users\\hp\\downloads\\new folder\\lib\\site-packages (from spacy) (8.1.10)\n",
      "Requirement already satisfied: cymem<2.1.0,>=2.0.2 in c:\\users\\hp\\downloads\\new folder\\lib\\site-packages (from spacy) (2.0.7)\n",
      "Requirement already satisfied: packaging>=20.0 in c:\\users\\hp\\downloads\\new folder\\lib\\site-packages (from spacy) (22.0)\n",
      "Requirement already satisfied: jinja2 in c:\\users\\hp\\downloads\\new folder\\lib\\site-packages (from spacy) (3.1.2)\n",
      "Requirement already satisfied: catalogue<2.1.0,>=2.0.6 in c:\\users\\hp\\downloads\\new folder\\lib\\site-packages (from spacy) (2.0.8)\n",
      "Requirement already satisfied: typing-extensions>=4.2.0 in c:\\users\\hp\\downloads\\new folder\\lib\\site-packages (from pydantic!=1.8,!=1.8.1,<1.11.0,>=1.7.4->spacy) (4.4.0)\n",
      "Requirement already satisfied: urllib3<1.27,>=1.21.1 in c:\\users\\hp\\downloads\\new folder\\lib\\site-packages (from requests<3.0.0,>=2.13.0->spacy) (1.26.14)\n",
      "Requirement already satisfied: certifi>=2017.4.17 in c:\\users\\hp\\downloads\\new folder\\lib\\site-packages (from requests<3.0.0,>=2.13.0->spacy) (2023.11.17)\n",
      "Requirement already satisfied: charset-normalizer<3,>=2 in c:\\users\\hp\\downloads\\new folder\\lib\\site-packages (from requests<3.0.0,>=2.13.0->spacy) (2.0.4)\n",
      "Requirement already satisfied: idna<4,>=2.5 in c:\\users\\hp\\downloads\\new folder\\lib\\site-packages (from requests<3.0.0,>=2.13.0->spacy) (3.4)\n",
      "Requirement already satisfied: blis<0.8.0,>=0.7.8 in c:\\users\\hp\\downloads\\new folder\\lib\\site-packages (from thinc<8.2.0,>=8.1.8->spacy) (0.7.9)\n",
      "Requirement already satisfied: confection<1.0.0,>=0.0.1 in c:\\users\\hp\\downloads\\new folder\\lib\\site-packages (from thinc<8.2.0,>=8.1.8->spacy) (0.1.0)\n",
      "Requirement already satisfied: colorama in c:\\users\\hp\\downloads\\new folder\\lib\\site-packages (from tqdm<5.0.0,>=4.38.0->spacy) (0.4.6)\n",
      "Requirement already satisfied: click<9.0.0,>=7.1.1 in c:\\users\\hp\\downloads\\new folder\\lib\\site-packages (from typer<0.10.0,>=0.3.0->spacy) (8.0.4)\n",
      "Requirement already satisfied: MarkupSafe>=2.0 in c:\\users\\hp\\downloads\\new folder\\lib\\site-packages (from jinja2->spacy) (2.1.1)\n"
     ]
    }
   ],
   "source": [
    "!pip install spacy\n",
    "#python-m spacy download en_core_web_sm"
   ]
  },
  {
   "cell_type": "code",
   "execution_count": 3,
   "id": "bbe0cbac",
   "metadata": {},
   "outputs": [
    {
     "data": {
      "text/plain": [
       "data science and ai has greate career ahead"
      ]
     },
     "execution_count": 3,
     "metadata": {},
     "output_type": "execute_result"
    }
   ],
   "source": [
    "import spacy\n",
    "nlp = spacy.load(\"en_core_web_sm\")\n",
    "doc = nlp(\"data science and ai has greate career ahead\")\n",
    "doc\n",
    "\n"
   ]
  },
  {
   "cell_type": "code",
   "execution_count": 4,
   "id": "87780b5b",
   "metadata": {},
   "outputs": [
    {
     "name": "stdout",
     "output_type": "stream",
     "text": [
      "data\n",
      "science\n",
      "and\n",
      "ai\n",
      "has\n",
      "greate\n",
      "career\n",
      "ahead\n"
     ]
    }
   ],
   "source": [
    "for token in doc: \n",
    "    print(token.text)\n",
    "    "
   ]
  },
  {
   "cell_type": "code",
   "execution_count": 5,
   "id": "caa491a1",
   "metadata": {},
   "outputs": [
    {
     "name": "stdout",
     "output_type": "stream",
     "text": [
      "NOUN\n",
      "NOUN\n",
      "CCONJ\n",
      "AUX\n",
      "VERB\n",
      "ADJ\n",
      "NOUN\n",
      "ADV\n"
     ]
    }
   ],
   "source": [
    "for token in doc: \n",
    "    print(token.pos_)"
   ]
  },
  {
   "cell_type": "code",
   "execution_count": 6,
   "id": "b3f36c83",
   "metadata": {},
   "outputs": [
    {
     "name": "stdout",
     "output_type": "stream",
     "text": [
      "data NOUN\n",
      "science NOUN\n",
      "and CCONJ\n",
      "ai AUX\n",
      "has VERB\n",
      "greate ADJ\n",
      "career NOUN\n",
      "ahead ADV\n"
     ]
    }
   ],
   "source": [
    "for token in doc: \n",
    "    print(token.text, token.pos_)"
   ]
  },
  {
   "cell_type": "code",
   "execution_count": 7,
   "id": "aa6dd8ae",
   "metadata": {},
   "outputs": [],
   "source": [
    "import spacy\n",
    "from spacy.lang.en.stop_words import STOP_WORDS\n",
    "from string import punctuation"
   ]
  },
  {
   "cell_type": "code",
   "execution_count": 8,
   "id": "dd10361e",
   "metadata": {},
   "outputs": [
    {
     "data": {
      "text/plain": [
       "[\"'d\",\n",
       " 'bottom',\n",
       " 'moreover',\n",
       " 'n’t',\n",
       " 'at',\n",
       " 'thus',\n",
       " 'me',\n",
       " 'every',\n",
       " 'though',\n",
       " 'becomes',\n",
       " 'n‘t',\n",
       " 'along',\n",
       " 'fifty',\n",
       " 'really',\n",
       " 'itself',\n",
       " \"n't\",\n",
       " \"'s\",\n",
       " 'anyone',\n",
       " 'its',\n",
       " 'unless',\n",
       " 'cannot',\n",
       " 'four',\n",
       " 'will',\n",
       " 'they',\n",
       " 'those',\n",
       " 'noone',\n",
       " 'toward',\n",
       " 'mostly',\n",
       " 'also',\n",
       " 'if',\n",
       " 'between',\n",
       " 'were',\n",
       " 'in',\n",
       " 'behind',\n",
       " 'i',\n",
       " 'ever',\n",
       " 'before',\n",
       " 'where',\n",
       " 'side',\n",
       " '‘d',\n",
       " 'across',\n",
       " 'because',\n",
       " 'hereby',\n",
       " 'several',\n",
       " 'full',\n",
       " 'keep',\n",
       " 'almost',\n",
       " 'thence',\n",
       " 'my',\n",
       " 'so',\n",
       " '’ve',\n",
       " 'out',\n",
       " 'after',\n",
       " \"'ve\",\n",
       " 'say',\n",
       " 'hundred',\n",
       " 'either',\n",
       " 'eleven',\n",
       " 'one',\n",
       " 'anywhere',\n",
       " 'empty',\n",
       " 'sometimes',\n",
       " 'that',\n",
       " 'here',\n",
       " 'his',\n",
       " 'both',\n",
       " 'whom',\n",
       " 'then',\n",
       " 'least',\n",
       " 'various',\n",
       " 'below',\n",
       " 'myself',\n",
       " 'show',\n",
       " 'third',\n",
       " 'why',\n",
       " 'whose',\n",
       " 'not',\n",
       " 'ours',\n",
       " 'above',\n",
       " 'down',\n",
       " 'serious',\n",
       " 'much',\n",
       " 'there',\n",
       " 'our',\n",
       " 'on',\n",
       " 'hereupon',\n",
       " 'make',\n",
       " 'many',\n",
       " 'whence',\n",
       " 'beforehand',\n",
       " 'nothing',\n",
       " 'around',\n",
       " 'should',\n",
       " 'ca',\n",
       " 'whereby',\n",
       " 'yet',\n",
       " 'into',\n",
       " 'since',\n",
       " 'formerly',\n",
       " 'quite',\n",
       " 'front',\n",
       " 'has',\n",
       " 'all',\n",
       " '’s',\n",
       " 'due',\n",
       " 'ourselves',\n",
       " 'nowhere',\n",
       " 'no',\n",
       " 'never',\n",
       " 'became',\n",
       " 'during',\n",
       " 'than',\n",
       " 'sixty',\n",
       " 'whoever',\n",
       " 'perhaps',\n",
       " 'when',\n",
       " 'who',\n",
       " 'part',\n",
       " 'we',\n",
       " 'nobody',\n",
       " 'other',\n",
       " 'seems',\n",
       " 'two',\n",
       " 'sometime',\n",
       " 'same',\n",
       " 'through',\n",
       " 'how',\n",
       " 'would',\n",
       " 'call',\n",
       " 'under',\n",
       " 'used',\n",
       " 'them',\n",
       " 'ten',\n",
       " 'again',\n",
       " 'take',\n",
       " 'being',\n",
       " 'themselves',\n",
       " 'us',\n",
       " 'a',\n",
       " 'whenever',\n",
       " 'but',\n",
       " 'she',\n",
       " 'hers',\n",
       " 'and',\n",
       " 'against',\n",
       " '’m',\n",
       " 'up',\n",
       " 'becoming',\n",
       " 'whatever',\n",
       " 'latter',\n",
       " 'often',\n",
       " 'own',\n",
       " 'already',\n",
       " 'twelve',\n",
       " 'beside',\n",
       " 'another',\n",
       " 'per',\n",
       " 'the',\n",
       " 're',\n",
       " 'once',\n",
       " 'anything',\n",
       " 'everyone',\n",
       " 'did',\n",
       " 'throughout',\n",
       " 'using',\n",
       " 'less',\n",
       " 'thereupon',\n",
       " 'been',\n",
       " 'although',\n",
       " 'amount',\n",
       " 'made',\n",
       " 'herself',\n",
       " 'somehow',\n",
       " 'about',\n",
       " 'via',\n",
       " 'anyway',\n",
       " 'you',\n",
       " 'everywhere',\n",
       " 'back',\n",
       " 'thru',\n",
       " 'only',\n",
       " 'anyhow',\n",
       " 'somewhere',\n",
       " 'just',\n",
       " 'seemed',\n",
       " 'yourself',\n",
       " 'am',\n",
       " '’re',\n",
       " 'onto',\n",
       " 'of',\n",
       " 'put',\n",
       " 'something',\n",
       " 'whereas',\n",
       " 'may',\n",
       " 'over',\n",
       " 'nor',\n",
       " 'to',\n",
       " '‘ve',\n",
       " 'he',\n",
       " 'whereupon',\n",
       " 'besides',\n",
       " 'someone',\n",
       " 'last',\n",
       " 'together',\n",
       " 'be',\n",
       " 'give',\n",
       " 'whether',\n",
       " 'go',\n",
       " 'must',\n",
       " 'yourselves',\n",
       " 'while',\n",
       " 'still',\n",
       " 'meanwhile',\n",
       " 'her',\n",
       " 'always',\n",
       " 'whole',\n",
       " 'hence',\n",
       " 'within',\n",
       " 'more',\n",
       " 'these',\n",
       " 'however',\n",
       " 'regarding',\n",
       " 'others',\n",
       " 'too',\n",
       " 'with',\n",
       " 'hereafter',\n",
       " '‘s',\n",
       " 'forty',\n",
       " '‘ll',\n",
       " 'thereafter',\n",
       " 'very',\n",
       " 'except',\n",
       " 'their',\n",
       " 'for',\n",
       " 'amongst',\n",
       " 'whereafter',\n",
       " 'upon',\n",
       " 'doing',\n",
       " 'can',\n",
       " \"'m\",\n",
       " 'indeed',\n",
       " 'six',\n",
       " 'next',\n",
       " 'have',\n",
       " 'latterly',\n",
       " 'among',\n",
       " 'does',\n",
       " 'even',\n",
       " 'such',\n",
       " 'which',\n",
       " 'become',\n",
       " 'could',\n",
       " 'any',\n",
       " \"'re\",\n",
       " '‘re',\n",
       " 'first',\n",
       " 'nine',\n",
       " '’d',\n",
       " 'else',\n",
       " 'see',\n",
       " 'most',\n",
       " 'everything',\n",
       " 'wherein',\n",
       " 'further',\n",
       " 'twenty',\n",
       " 'three',\n",
       " 'done',\n",
       " 'mine',\n",
       " 'off',\n",
       " 'from',\n",
       " '’ll',\n",
       " 'afterwards',\n",
       " 'without',\n",
       " '‘m',\n",
       " 'do',\n",
       " 'enough',\n",
       " 'eight',\n",
       " 'is',\n",
       " 'an',\n",
       " 'get',\n",
       " 'namely',\n",
       " 'might',\n",
       " 'each',\n",
       " 'nevertheless',\n",
       " 'was',\n",
       " 'well',\n",
       " 'seem',\n",
       " 'by',\n",
       " 'herein',\n",
       " 'elsewhere',\n",
       " 'former',\n",
       " 'neither',\n",
       " 'otherwise',\n",
       " 'beyond',\n",
       " 'five',\n",
       " 'wherever',\n",
       " 'it',\n",
       " 'whither',\n",
       " 'thereby',\n",
       " 'until',\n",
       " 'himself',\n",
       " 'move',\n",
       " 'top',\n",
       " 'seeming',\n",
       " 'him',\n",
       " 'therefore',\n",
       " 'or',\n",
       " 'some',\n",
       " 'as',\n",
       " 'now',\n",
       " 'name',\n",
       " 'rather',\n",
       " 'yours',\n",
       " 'alone',\n",
       " 'this',\n",
       " 'please',\n",
       " 'towards',\n",
       " 'none',\n",
       " 'what',\n",
       " 'are',\n",
       " \"'ll\",\n",
       " 'therein',\n",
       " 'had',\n",
       " 'your',\n",
       " 'fifteen',\n",
       " 'few']"
      ]
     },
     "execution_count": 8,
     "metadata": {},
     "output_type": "execute_result"
    }
   ],
   "source": [
    "stopwords = list(STOP_WORDS)\n",
    "stopwords"
   ]
  },
  {
   "cell_type": "code",
   "execution_count": 9,
   "id": "1801791a",
   "metadata": {},
   "outputs": [
    {
     "data": {
      "text/plain": [
       "326"
      ]
     },
     "execution_count": 9,
     "metadata": {},
     "output_type": "execute_result"
    }
   ],
   "source": [
    "len(stopwords)"
   ]
  },
  {
   "cell_type": "code",
   "execution_count": 10,
   "id": "19ef55fa",
   "metadata": {},
   "outputs": [],
   "source": [
    "nlp = spacy.load('en_core_web_sm')"
   ]
  },
  {
   "cell_type": "code",
   "execution_count": 11,
   "id": "d7d28cdf",
   "metadata": {},
   "outputs": [
    {
     "data": {
      "text/plain": [
       "' \\nText Summarization:\\nPurpose: Text summarization aims to condense a large piece of text into a shorter, coherent summary while retaining its key information.\\nMethods: There are two main approaches to text summarization: extractive and abstractive.\\nExtractive summarization involves selecting important sentences or phrases directly from the original text and concatenating them to form a summary.\\nAbstractive summarization involves generating new sentences that convey the main ideas of the original text in a more concise form.\\nApplications: Text summarization is useful for quickly understanding the content of lengthy documents, news articles, research papers, and other text-heavy materials\\nThere are two main approaches to text summarization:\\n\\n1. Extractive summarization involves selecting and extracting important sentences or passages directly from the original text to form the summary. These selected sentences are typically the ones that contain the most relevant information and are representative of the main ideas of the text. Extractive summarization does not generate new text but rather reuses existing content.\\n2. Abstractive Summarization: Abstractive summarization, on the other hand, involves generating new sentences that capture the essence of the original text in a more concise and coherent manner. Unlike extractive summarization, abstractive summarization can rephrase and condense the information into a more compact form, potentially using different wording and sentence structures.'"
      ]
     },
     "execution_count": 11,
     "metadata": {},
     "output_type": "execute_result"
    }
   ],
   "source": [
    "text = (\"\"\" \n",
    "Text Summarization:\n",
    "Purpose: Text summarization aims to condense a large piece of text into a shorter, coherent summary while retaining its key information.\n",
    "Methods: There are two main approaches to text summarization: extractive and abstractive.\n",
    "Extractive summarization involves selecting important sentences or phrases directly from the original text and concatenating them to form a summary.\n",
    "Abstractive summarization involves generating new sentences that convey the main ideas of the original text in a more concise form.\n",
    "Applications: Text summarization is useful for quickly understanding the content of lengthy documents, news articles, research papers, and other text-heavy materials\n",
    "There are two main approaches to text summarization:\n",
    "\n",
    "1. Extractive summarization involves selecting and extracting important sentences or passages directly from the original text to form the summary. These selected sentences are typically the ones that contain the most relevant information and are representative of the main ideas of the text. Extractive summarization does not generate new text but rather reuses existing content.\n",
    "2. Abstractive Summarization: Abstractive summarization, on the other hand, involves generating new sentences that capture the essence of the original text in a more concise and coherent manner. Unlike extractive summarization, abstractive summarization can rephrase and condense the information into a more compact form, potentially using different wording and sentence structures.\"\"\") \n",
    "text"
   ]
  },
  {
   "cell_type": "code",
   "execution_count": 12,
   "id": "2f0a2240",
   "metadata": {},
   "outputs": [
    {
     "data": {
      "text/plain": [
       " \n",
       "Text Summarization:\n",
       "Purpose: Text summarization aims to condense a large piece of text into a shorter, coherent summary while retaining its key information.\n",
       "Methods: There are two main approaches to text summarization: extractive and abstractive.\n",
       "Extractive summarization involves selecting important sentences or phrases directly from the original text and concatenating them to form a summary.\n",
       "Abstractive summarization involves generating new sentences that convey the main ideas of the original text in a more concise form.\n",
       "Applications: Text summarization is useful for quickly understanding the content of lengthy documents, news articles, research papers, and other text-heavy materials\n",
       "There are two main approaches to text summarization:\n",
       "\n",
       "1. Extractive summarization involves selecting and extracting important sentences or passages directly from the original text to form the summary. These selected sentences are typically the ones that contain the most relevant information and are representative of the main ideas of the text. Extractive summarization does not generate new text but rather reuses existing content.\n",
       "2. Abstractive Summarization: Abstractive summarization, on the other hand, involves generating new sentences that capture the essence of the original text in a more concise and coherent manner. Unlike extractive summarization, abstractive summarization can rephrase and condense the information into a more compact form, potentially using different wording and sentence structures."
      ]
     },
     "execution_count": 12,
     "metadata": {},
     "output_type": "execute_result"
    }
   ],
   "source": [
    "doc = nlp(text)\n",
    "doc"
   ]
  },
  {
   "cell_type": "code",
   "execution_count": 13,
   "id": "5c2cdb82",
   "metadata": {},
   "outputs": [
    {
     "name": "stdout",
     "output_type": "stream",
     "text": [
      "[' \\n', 'Text', 'Summarization', ':', '\\n', 'Purpose', ':', 'Text', 'summarization', 'aims', 'to', 'condense', 'a', 'large', 'piece', 'of', 'text', 'into', 'a', 'shorter', ',', 'coherent', 'summary', 'while', 'retaining', 'its', 'key', 'information', '.', '\\n', 'Methods', ':', 'There', 'are', 'two', 'main', 'approaches', 'to', 'text', 'summarization', ':', 'extractive', 'and', 'abstractive', '.', '\\n', 'Extractive', 'summarization', 'involves', 'selecting', 'important', 'sentences', 'or', 'phrases', 'directly', 'from', 'the', 'original', 'text', 'and', 'concatenating', 'them', 'to', 'form', 'a', 'summary', '.', '\\n', 'Abstractive', 'summarization', 'involves', 'generating', 'new', 'sentences', 'that', 'convey', 'the', 'main', 'ideas', 'of', 'the', 'original', 'text', 'in', 'a', 'more', 'concise', 'form', '.', '\\n', 'Applications', ':', 'Text', 'summarization', 'is', 'useful', 'for', 'quickly', 'understanding', 'the', 'content', 'of', 'lengthy', 'documents', ',', 'news', 'articles', ',', 'research', 'papers', ',', 'and', 'other', 'text', '-', 'heavy', 'materials', '\\n', 'There', 'are', 'two', 'main', 'approaches', 'to', 'text', 'summarization', ':', '\\n\\n', '1', '.', 'Extractive', 'summarization', 'involves', 'selecting', 'and', 'extracting', 'important', 'sentences', 'or', 'passages', 'directly', 'from', 'the', 'original', 'text', 'to', 'form', 'the', 'summary', '.', 'These', 'selected', 'sentences', 'are', 'typically', 'the', 'ones', 'that', 'contain', 'the', 'most', 'relevant', 'information', 'and', 'are', 'representative', 'of', 'the', 'main', 'ideas', 'of', 'the', 'text', '.', 'Extractive', 'summarization', 'does', 'not', 'generate', 'new', 'text', 'but', 'rather', 'reuses', 'existing', 'content', '.', '\\n', '2', '.', 'Abstractive', 'Summarization', ':', 'Abstractive', 'summarization', ',', 'on', 'the', 'other', 'hand', ',', 'involves', 'generating', 'new', 'sentences', 'that', 'capture', 'the', 'essence', 'of', 'the', 'original', 'text', 'in', 'a', 'more', 'concise', 'and', 'coherent', 'manner', '.', 'Unlike', 'extractive', 'summarization', ',', 'abstractive', 'summarization', 'can', 'rephrase', 'and', 'condense', 'the', 'information', 'into', 'a', 'more', 'compact', 'form', ',', 'potentially', 'using', 'different', 'wording', 'and', 'sentence', 'structures', '.']\n"
     ]
    }
   ],
   "source": [
    "tokens = [token.text for token in doc]\n",
    "print(tokens)"
   ]
  },
  {
   "cell_type": "code",
   "execution_count": 14,
   "id": "4fcde685",
   "metadata": {},
   "outputs": [
    {
     "data": {
      "text/plain": [
       "[' \\n',\n",
       " 'Text',\n",
       " 'Summarization',\n",
       " ':',\n",
       " '\\n',\n",
       " 'Purpose',\n",
       " ':',\n",
       " 'Text',\n",
       " 'summarization',\n",
       " 'aims',\n",
       " 'to',\n",
       " 'condense',\n",
       " 'a',\n",
       " 'large',\n",
       " 'piece',\n",
       " 'of',\n",
       " 'text',\n",
       " 'into',\n",
       " 'a',\n",
       " 'shorter',\n",
       " ',',\n",
       " 'coherent',\n",
       " 'summary',\n",
       " 'while',\n",
       " 'retaining',\n",
       " 'its',\n",
       " 'key',\n",
       " 'information',\n",
       " '.',\n",
       " '\\n',\n",
       " 'Methods',\n",
       " ':',\n",
       " 'There',\n",
       " 'are',\n",
       " 'two',\n",
       " 'main',\n",
       " 'approaches',\n",
       " 'to',\n",
       " 'text',\n",
       " 'summarization',\n",
       " ':',\n",
       " 'extractive',\n",
       " 'and',\n",
       " 'abstractive',\n",
       " '.',\n",
       " '\\n',\n",
       " 'Extractive',\n",
       " 'summarization',\n",
       " 'involves',\n",
       " 'selecting',\n",
       " 'important',\n",
       " 'sentences',\n",
       " 'or',\n",
       " 'phrases',\n",
       " 'directly',\n",
       " 'from',\n",
       " 'the',\n",
       " 'original',\n",
       " 'text',\n",
       " 'and',\n",
       " 'concatenating',\n",
       " 'them',\n",
       " 'to',\n",
       " 'form',\n",
       " 'a',\n",
       " 'summary',\n",
       " '.',\n",
       " '\\n',\n",
       " 'Abstractive',\n",
       " 'summarization',\n",
       " 'involves',\n",
       " 'generating',\n",
       " 'new',\n",
       " 'sentences',\n",
       " 'that',\n",
       " 'convey',\n",
       " 'the',\n",
       " 'main',\n",
       " 'ideas',\n",
       " 'of',\n",
       " 'the',\n",
       " 'original',\n",
       " 'text',\n",
       " 'in',\n",
       " 'a',\n",
       " 'more',\n",
       " 'concise',\n",
       " 'form',\n",
       " '.',\n",
       " '\\n',\n",
       " 'Applications',\n",
       " ':',\n",
       " 'Text',\n",
       " 'summarization',\n",
       " 'is',\n",
       " 'useful',\n",
       " 'for',\n",
       " 'quickly',\n",
       " 'understanding',\n",
       " 'the',\n",
       " 'content',\n",
       " 'of',\n",
       " 'lengthy',\n",
       " 'documents',\n",
       " ',',\n",
       " 'news',\n",
       " 'articles',\n",
       " ',',\n",
       " 'research',\n",
       " 'papers',\n",
       " ',',\n",
       " 'and',\n",
       " 'other',\n",
       " 'text',\n",
       " '-',\n",
       " 'heavy',\n",
       " 'materials',\n",
       " '\\n',\n",
       " 'There',\n",
       " 'are',\n",
       " 'two',\n",
       " 'main',\n",
       " 'approaches',\n",
       " 'to',\n",
       " 'text',\n",
       " 'summarization',\n",
       " ':',\n",
       " '\\n\\n',\n",
       " '1',\n",
       " '.',\n",
       " 'Extractive',\n",
       " 'summarization',\n",
       " 'involves',\n",
       " 'selecting',\n",
       " 'and',\n",
       " 'extracting',\n",
       " 'important',\n",
       " 'sentences',\n",
       " 'or',\n",
       " 'passages',\n",
       " 'directly',\n",
       " 'from',\n",
       " 'the',\n",
       " 'original',\n",
       " 'text',\n",
       " 'to',\n",
       " 'form',\n",
       " 'the',\n",
       " 'summary',\n",
       " '.',\n",
       " 'These',\n",
       " 'selected',\n",
       " 'sentences',\n",
       " 'are',\n",
       " 'typically',\n",
       " 'the',\n",
       " 'ones',\n",
       " 'that',\n",
       " 'contain',\n",
       " 'the',\n",
       " 'most',\n",
       " 'relevant',\n",
       " 'information',\n",
       " 'and',\n",
       " 'are',\n",
       " 'representative',\n",
       " 'of',\n",
       " 'the',\n",
       " 'main',\n",
       " 'ideas',\n",
       " 'of',\n",
       " 'the',\n",
       " 'text',\n",
       " '.',\n",
       " 'Extractive',\n",
       " 'summarization',\n",
       " 'does',\n",
       " 'not',\n",
       " 'generate',\n",
       " 'new',\n",
       " 'text',\n",
       " 'but',\n",
       " 'rather',\n",
       " 'reuses',\n",
       " 'existing',\n",
       " 'content',\n",
       " '.',\n",
       " '\\n',\n",
       " '2',\n",
       " '.',\n",
       " 'Abstractive',\n",
       " 'Summarization',\n",
       " ':',\n",
       " 'Abstractive',\n",
       " 'summarization',\n",
       " ',',\n",
       " 'on',\n",
       " 'the',\n",
       " 'other',\n",
       " 'hand',\n",
       " ',',\n",
       " 'involves',\n",
       " 'generating',\n",
       " 'new',\n",
       " 'sentences',\n",
       " 'that',\n",
       " 'capture',\n",
       " 'the',\n",
       " 'essence',\n",
       " 'of',\n",
       " 'the',\n",
       " 'original',\n",
       " 'text',\n",
       " 'in',\n",
       " 'a',\n",
       " 'more',\n",
       " 'concise',\n",
       " 'and',\n",
       " 'coherent',\n",
       " 'manner',\n",
       " '.',\n",
       " 'Unlike',\n",
       " 'extractive',\n",
       " 'summarization',\n",
       " ',',\n",
       " 'abstractive',\n",
       " 'summarization',\n",
       " 'can',\n",
       " 'rephrase',\n",
       " 'and',\n",
       " 'condense',\n",
       " 'the',\n",
       " 'information',\n",
       " 'into',\n",
       " 'a',\n",
       " 'more',\n",
       " 'compact',\n",
       " 'form',\n",
       " ',',\n",
       " 'potentially',\n",
       " 'using',\n",
       " 'different',\n",
       " 'wording',\n",
       " 'and',\n",
       " 'sentence',\n",
       " 'structures',\n",
       " '.']"
      ]
     },
     "execution_count": 14,
     "metadata": {},
     "output_type": "execute_result"
    }
   ],
   "source": [
    "tokens "
   ]
  },
  {
   "cell_type": "code",
   "execution_count": 15,
   "id": "5de20337",
   "metadata": {},
   "outputs": [
    {
     "data": {
      "text/plain": [
       "247"
      ]
     },
     "execution_count": 15,
     "metadata": {},
     "output_type": "execute_result"
    }
   ],
   "source": [
    "len(tokens)"
   ]
  },
  {
   "cell_type": "code",
   "execution_count": 16,
   "id": "f2615ee6",
   "metadata": {},
   "outputs": [
    {
     "data": {
      "text/plain": [
       "'!\"#$%&\\'()*+,-./:;<=>?@[\\\\]^_`{|}~'"
      ]
     },
     "execution_count": 16,
     "metadata": {},
     "output_type": "execute_result"
    }
   ],
   "source": [
    "punctuation"
   ]
  },
  {
   "cell_type": "code",
   "execution_count": 17,
   "id": "7bd91350",
   "metadata": {},
   "outputs": [
    {
     "data": {
      "text/plain": [
       " \n",
       "Text Summarization:\n",
       "Purpose: Text summarization aims to condense a large piece of text into a shorter, coherent summary while retaining its key information.\n",
       "Methods: There are two main approaches to text summarization: extractive and abstractive.\n",
       "Extractive summarization involves selecting important sentences or phrases directly from the original text and concatenating them to form a summary.\n",
       "Abstractive summarization involves generating new sentences that convey the main ideas of the original text in a more concise form.\n",
       "Applications: Text summarization is useful for quickly understanding the content of lengthy documents, news articles, research papers, and other text-heavy materials\n",
       "There are two main approaches to text summarization:\n",
       "\n",
       "1. Extractive summarization involves selecting and extracting important sentences or passages directly from the original text to form the summary. These selected sentences are typically the ones that contain the most relevant information and are representative of the main ideas of the text. Extractive summarization does not generate new text but rather reuses existing content.\n",
       "2. Abstractive Summarization: Abstractive summarization, on the other hand, involves generating new sentences that capture the essence of the original text in a more concise and coherent manner. Unlike extractive summarization, abstractive summarization can rephrase and condense the information into a more compact form, potentially using different wording and sentence structures."
      ]
     },
     "execution_count": 17,
     "metadata": {},
     "output_type": "execute_result"
    }
   ],
   "source": [
    "doc"
   ]
  },
  {
   "cell_type": "code",
   "execution_count": 18,
   "id": "4638a760",
   "metadata": {},
   "outputs": [],
   "source": [
    "word_frequencies = {}\n",
    "for word in doc: \n",
    "    if word.text.lower() not in stopwords: \n",
    "        if word.text.lower() not in punctuation: \n",
    "            if word.text not in word_frequencies.keys(): \n",
    "                word_frequencies[word.text] = 1\n",
    "            else:\n",
    "                    word_frequencies[word.text] += 1"
   ]
  },
  {
   "cell_type": "code",
   "execution_count": 19,
   "id": "530e01e0",
   "metadata": {},
   "outputs": [
    {
     "data": {
      "text/plain": [
       "{' \\n': 1,\n",
       " 'Text': 3,\n",
       " 'Summarization': 2,\n",
       " '\\n': 7,\n",
       " 'Purpose': 1,\n",
       " 'summarization': 11,\n",
       " 'aims': 1,\n",
       " 'condense': 2,\n",
       " 'large': 1,\n",
       " 'piece': 1,\n",
       " 'text': 10,\n",
       " 'shorter': 1,\n",
       " 'coherent': 2,\n",
       " 'summary': 3,\n",
       " 'retaining': 1,\n",
       " 'key': 1,\n",
       " 'information': 3,\n",
       " 'Methods': 1,\n",
       " 'main': 4,\n",
       " 'approaches': 2,\n",
       " 'extractive': 2,\n",
       " 'abstractive': 2,\n",
       " 'Extractive': 3,\n",
       " 'involves': 4,\n",
       " 'selecting': 2,\n",
       " 'important': 2,\n",
       " 'sentences': 5,\n",
       " 'phrases': 1,\n",
       " 'directly': 2,\n",
       " 'original': 4,\n",
       " 'concatenating': 1,\n",
       " 'form': 4,\n",
       " 'Abstractive': 3,\n",
       " 'generating': 2,\n",
       " 'new': 3,\n",
       " 'convey': 1,\n",
       " 'ideas': 2,\n",
       " 'concise': 2,\n",
       " 'Applications': 1,\n",
       " 'useful': 1,\n",
       " 'quickly': 1,\n",
       " 'understanding': 1,\n",
       " 'content': 2,\n",
       " 'lengthy': 1,\n",
       " 'documents': 1,\n",
       " 'news': 1,\n",
       " 'articles': 1,\n",
       " 'research': 1,\n",
       " 'papers': 1,\n",
       " 'heavy': 1,\n",
       " 'materials': 1,\n",
       " '\\n\\n': 1,\n",
       " '1': 1,\n",
       " 'extracting': 1,\n",
       " 'passages': 1,\n",
       " 'selected': 1,\n",
       " 'typically': 1,\n",
       " 'ones': 1,\n",
       " 'contain': 1,\n",
       " 'relevant': 1,\n",
       " 'representative': 1,\n",
       " 'generate': 1,\n",
       " 'reuses': 1,\n",
       " 'existing': 1,\n",
       " '2': 1,\n",
       " 'hand': 1,\n",
       " 'capture': 1,\n",
       " 'essence': 1,\n",
       " 'manner': 1,\n",
       " 'Unlike': 1,\n",
       " 'rephrase': 1,\n",
       " 'compact': 1,\n",
       " 'potentially': 1,\n",
       " 'different': 1,\n",
       " 'wording': 1,\n",
       " 'sentence': 1,\n",
       " 'structures': 1}"
      ]
     },
     "execution_count": 19,
     "metadata": {},
     "output_type": "execute_result"
    }
   ],
   "source": [
    "word_frequencies"
   ]
  },
  {
   "cell_type": "code",
   "execution_count": 20,
   "id": "16d58a10",
   "metadata": {},
   "outputs": [
    {
     "data": {
      "text/plain": [
       "77"
      ]
     },
     "execution_count": 20,
     "metadata": {},
     "output_type": "execute_result"
    }
   ],
   "source": [
    "len(word_frequencies)"
   ]
  },
  {
   "cell_type": "code",
   "execution_count": 21,
   "id": "9a39b23a",
   "metadata": {},
   "outputs": [
    {
     "data": {
      "text/plain": [
       "{' \\n': 1,\n",
       " 'Text': 3,\n",
       " 'Summarization': 2,\n",
       " '\\n': 7,\n",
       " 'Purpose': 1,\n",
       " 'summarization': 11,\n",
       " 'aims': 1,\n",
       " 'condense': 2,\n",
       " 'large': 1,\n",
       " 'piece': 1,\n",
       " 'text': 10,\n",
       " 'shorter': 1,\n",
       " 'coherent': 2,\n",
       " 'summary': 3,\n",
       " 'retaining': 1,\n",
       " 'key': 1,\n",
       " 'information': 3,\n",
       " 'Methods': 1,\n",
       " 'main': 4,\n",
       " 'approaches': 2,\n",
       " 'extractive': 2,\n",
       " 'abstractive': 2,\n",
       " 'Extractive': 3,\n",
       " 'involves': 4,\n",
       " 'selecting': 2,\n",
       " 'important': 2,\n",
       " 'sentences': 5,\n",
       " 'phrases': 1,\n",
       " 'directly': 2,\n",
       " 'original': 4,\n",
       " 'concatenating': 1,\n",
       " 'form': 4,\n",
       " 'Abstractive': 3,\n",
       " 'generating': 2,\n",
       " 'new': 3,\n",
       " 'convey': 1,\n",
       " 'ideas': 2,\n",
       " 'concise': 2,\n",
       " 'Applications': 1,\n",
       " 'useful': 1,\n",
       " 'quickly': 1,\n",
       " 'understanding': 1,\n",
       " 'content': 2,\n",
       " 'lengthy': 1,\n",
       " 'documents': 1,\n",
       " 'news': 1,\n",
       " 'articles': 1,\n",
       " 'research': 1,\n",
       " 'papers': 1,\n",
       " 'heavy': 1,\n",
       " 'materials': 1,\n",
       " '\\n\\n': 1,\n",
       " '1': 1,\n",
       " 'extracting': 1,\n",
       " 'passages': 1,\n",
       " 'selected': 1,\n",
       " 'typically': 1,\n",
       " 'ones': 1,\n",
       " 'contain': 1,\n",
       " 'relevant': 1,\n",
       " 'representative': 1,\n",
       " 'generate': 1,\n",
       " 'reuses': 1,\n",
       " 'existing': 1,\n",
       " '2': 1,\n",
       " 'hand': 1,\n",
       " 'capture': 1,\n",
       " 'essence': 1,\n",
       " 'manner': 1,\n",
       " 'Unlike': 1,\n",
       " 'rephrase': 1,\n",
       " 'compact': 1,\n",
       " 'potentially': 1,\n",
       " 'different': 1,\n",
       " 'wording': 1,\n",
       " 'sentence': 1,\n",
       " 'structures': 1}"
      ]
     },
     "execution_count": 21,
     "metadata": {},
     "output_type": "execute_result"
    }
   ],
   "source": [
    "word_frequencies"
   ]
  },
  {
   "cell_type": "code",
   "execution_count": 22,
   "id": "1d9a821b",
   "metadata": {},
   "outputs": [
    {
     "data": {
      "text/plain": [
       "11"
      ]
     },
     "execution_count": 22,
     "metadata": {},
     "output_type": "execute_result"
    }
   ],
   "source": [
    "max_frequency = max(word_frequencies.values())\n",
    "max_frequency"
   ]
  },
  {
   "cell_type": "code",
   "execution_count": 23,
   "id": "b2f4ecaf",
   "metadata": {},
   "outputs": [],
   "source": [
    "for word in word_frequencies.keys():\n",
    "    word_frequencies[word] = word_frequencies[word]/max_frequency"
   ]
  },
  {
   "cell_type": "code",
   "execution_count": 24,
   "id": "8a9fef93",
   "metadata": {},
   "outputs": [
    {
     "data": {
      "text/plain": [
       "{' \\n': 0.09090909090909091,\n",
       " 'Text': 0.2727272727272727,\n",
       " 'Summarization': 0.18181818181818182,\n",
       " '\\n': 0.6363636363636364,\n",
       " 'Purpose': 0.09090909090909091,\n",
       " 'summarization': 1.0,\n",
       " 'aims': 0.09090909090909091,\n",
       " 'condense': 0.18181818181818182,\n",
       " 'large': 0.09090909090909091,\n",
       " 'piece': 0.09090909090909091,\n",
       " 'text': 0.9090909090909091,\n",
       " 'shorter': 0.09090909090909091,\n",
       " 'coherent': 0.18181818181818182,\n",
       " 'summary': 0.2727272727272727,\n",
       " 'retaining': 0.09090909090909091,\n",
       " 'key': 0.09090909090909091,\n",
       " 'information': 0.2727272727272727,\n",
       " 'Methods': 0.09090909090909091,\n",
       " 'main': 0.36363636363636365,\n",
       " 'approaches': 0.18181818181818182,\n",
       " 'extractive': 0.18181818181818182,\n",
       " 'abstractive': 0.18181818181818182,\n",
       " 'Extractive': 0.2727272727272727,\n",
       " 'involves': 0.36363636363636365,\n",
       " 'selecting': 0.18181818181818182,\n",
       " 'important': 0.18181818181818182,\n",
       " 'sentences': 0.45454545454545453,\n",
       " 'phrases': 0.09090909090909091,\n",
       " 'directly': 0.18181818181818182,\n",
       " 'original': 0.36363636363636365,\n",
       " 'concatenating': 0.09090909090909091,\n",
       " 'form': 0.36363636363636365,\n",
       " 'Abstractive': 0.2727272727272727,\n",
       " 'generating': 0.18181818181818182,\n",
       " 'new': 0.2727272727272727,\n",
       " 'convey': 0.09090909090909091,\n",
       " 'ideas': 0.18181818181818182,\n",
       " 'concise': 0.18181818181818182,\n",
       " 'Applications': 0.09090909090909091,\n",
       " 'useful': 0.09090909090909091,\n",
       " 'quickly': 0.09090909090909091,\n",
       " 'understanding': 0.09090909090909091,\n",
       " 'content': 0.18181818181818182,\n",
       " 'lengthy': 0.09090909090909091,\n",
       " 'documents': 0.09090909090909091,\n",
       " 'news': 0.09090909090909091,\n",
       " 'articles': 0.09090909090909091,\n",
       " 'research': 0.09090909090909091,\n",
       " 'papers': 0.09090909090909091,\n",
       " 'heavy': 0.09090909090909091,\n",
       " 'materials': 0.09090909090909091,\n",
       " '\\n\\n': 0.09090909090909091,\n",
       " '1': 0.09090909090909091,\n",
       " 'extracting': 0.09090909090909091,\n",
       " 'passages': 0.09090909090909091,\n",
       " 'selected': 0.09090909090909091,\n",
       " 'typically': 0.09090909090909091,\n",
       " 'ones': 0.09090909090909091,\n",
       " 'contain': 0.09090909090909091,\n",
       " 'relevant': 0.09090909090909091,\n",
       " 'representative': 0.09090909090909091,\n",
       " 'generate': 0.09090909090909091,\n",
       " 'reuses': 0.09090909090909091,\n",
       " 'existing': 0.09090909090909091,\n",
       " '2': 0.09090909090909091,\n",
       " 'hand': 0.09090909090909091,\n",
       " 'capture': 0.09090909090909091,\n",
       " 'essence': 0.09090909090909091,\n",
       " 'manner': 0.09090909090909091,\n",
       " 'Unlike': 0.09090909090909091,\n",
       " 'rephrase': 0.09090909090909091,\n",
       " 'compact': 0.09090909090909091,\n",
       " 'potentially': 0.09090909090909091,\n",
       " 'different': 0.09090909090909091,\n",
       " 'wording': 0.09090909090909091,\n",
       " 'sentence': 0.09090909090909091,\n",
       " 'structures': 0.09090909090909091}"
      ]
     },
     "execution_count": 24,
     "metadata": {},
     "output_type": "execute_result"
    }
   ],
   "source": [
    "word_frequencies"
   ]
  },
  {
   "cell_type": "code",
   "execution_count": 25,
   "id": "7b9aca5e",
   "metadata": {},
   "outputs": [
    {
     "data": {
      "text/plain": [
       "[ \n",
       " Text Summarization:\n",
       " Purpose:,\n",
       " Text summarization aims to condense a large piece of text into a shorter, coherent summary while retaining its key information.,\n",
       " Methods: There are two main approaches to text summarization: extractive and abstractive.,\n",
       " Extractive summarization involves selecting important sentences or phrases directly from the original text and concatenating them to form a summary.,\n",
       " Abstractive summarization involves generating new sentences that convey the main ideas of the original text in a more concise form.,\n",
       " Applications:,\n",
       " Text summarization is useful for quickly understanding the content of lengthy documents, news articles, research papers, and other text-heavy materials\n",
       " There are two main approaches to text summarization:\n",
       " ,\n",
       " 1.,\n",
       " Extractive summarization involves selecting and extracting important sentences or passages directly from the original text to form the summary.,\n",
       " These selected sentences are typically the ones that contain the most relevant information and are representative of the main ideas of the text.,\n",
       " Extractive summarization does not generate new text but rather reuses existing content.,\n",
       " 2.,\n",
       " Abstractive Summarization: Abstractive summarization, on the other hand, involves generating new sentences that capture the essence of the original text in a more concise and coherent manner.,\n",
       " Unlike extractive summarization, abstractive summarization can rephrase and condense the information into a more compact form, potentially using different wording and sentence structures.]"
      ]
     },
     "execution_count": 25,
     "metadata": {},
     "output_type": "execute_result"
    }
   ],
   "source": [
    "sentence_tokens = [sent for sent in doc.sents]\n",
    "sentence_tokens\n"
   ]
  },
  {
   "cell_type": "code",
   "execution_count": 26,
   "id": "43ba2818",
   "metadata": {},
   "outputs": [
    {
     "data": {
      "text/plain": [
       "14"
      ]
     },
     "execution_count": 26,
     "metadata": {},
     "output_type": "execute_result"
    }
   ],
   "source": [
    "len(sentence_tokens)"
   ]
  },
  {
   "cell_type": "code",
   "execution_count": 27,
   "id": "9e0cfc5d",
   "metadata": {},
   "outputs": [
    {
     "data": {
      "text/plain": [
       "[ \n",
       " Text Summarization:\n",
       " Purpose:,\n",
       " Text summarization aims to condense a large piece of text into a shorter, coherent summary while retaining its key information.,\n",
       " Methods: There are two main approaches to text summarization: extractive and abstractive.,\n",
       " Extractive summarization involves selecting important sentences or phrases directly from the original text and concatenating them to form a summary.,\n",
       " Abstractive summarization involves generating new sentences that convey the main ideas of the original text in a more concise form.,\n",
       " Applications:,\n",
       " Text summarization is useful for quickly understanding the content of lengthy documents, news articles, research papers, and other text-heavy materials\n",
       " There are two main approaches to text summarization:\n",
       " ,\n",
       " 1.,\n",
       " Extractive summarization involves selecting and extracting important sentences or passages directly from the original text to form the summary.,\n",
       " These selected sentences are typically the ones that contain the most relevant information and are representative of the main ideas of the text.,\n",
       " Extractive summarization does not generate new text but rather reuses existing content.,\n",
       " 2.,\n",
       " Abstractive Summarization: Abstractive summarization, on the other hand, involves generating new sentences that capture the essence of the original text in a more concise and coherent manner.,\n",
       " Unlike extractive summarization, abstractive summarization can rephrase and condense the information into a more compact form, potentially using different wording and sentence structures.]"
      ]
     },
     "execution_count": 27,
     "metadata": {},
     "output_type": "execute_result"
    }
   ],
   "source": [
    "sentence_tokens"
   ]
  },
  {
   "cell_type": "code",
   "execution_count": 28,
   "id": "851b8059",
   "metadata": {},
   "outputs": [],
   "source": [
    "sentence_scores = {}\n",
    "for sent in sentence_tokens: \n",
    "    for word in sent: \n",
    "        if word.text.lower() in word_frequencies.keys():\n",
    "            if sent not in sentence_scores.keys(): \n",
    "                sentence_scores[sent] = word_frequencies[word.text.lower()]\n",
    "            else: \n",
    "                    sentence_scores[sent]+= word_frequencies[word.text.lower()]\n",
    "                    \n",
    "             "
   ]
  },
  {
   "cell_type": "code",
   "execution_count": 29,
   "id": "c1fb10d1",
   "metadata": {},
   "outputs": [
    {
     "data": {
      "text/plain": [
       "{ \n",
       " Text Summarization:\n",
       " Purpose:: 2.6363636363636362,\n",
       " Text summarization aims to condense a large piece of text into a shorter, coherent summary while retaining its key information.: 4.909090909090908,\n",
       " Methods: There are two main approaches to text summarization: extractive and abstractive.: 3.454545454545454,\n",
       " Extractive summarization involves selecting important sentences or phrases directly from the original text and concatenating them to form a summary.: 5.2727272727272725,\n",
       " Abstractive summarization involves generating new sentences that convey the main ideas of the original text in a more concise form.: 5.545454545454545,\n",
       " Text summarization is useful for quickly understanding the content of lengthy documents, news articles, research papers, and other text-heavy materials\n",
       " There are two main approaches to text summarization:\n",
       " : 7.181818181818181,\n",
       " 1.: 0.09090909090909091,\n",
       " Extractive summarization involves selecting and extracting important sentences or passages directly from the original text to form the summary.: 4.636363636363636,\n",
       " These selected sentences are typically the ones that contain the most relevant information and are representative of the main ideas of the text.: 2.727272727272727,\n",
       " Extractive summarization does not generate new text but rather reuses existing content.: 3.454545454545454,\n",
       " 2.: 0.09090909090909091,\n",
       " Abstractive Summarization: Abstractive summarization, on the other hand, involves generating new sentences that capture the essence of the original text in a more concise and coherent manner.: 5.636363636363636,\n",
       " Unlike extractive summarization, abstractive summarization can rephrase and condense the information into a more compact form, potentially using different wording and sentence structures.: 3.818181818181818}"
      ]
     },
     "execution_count": 29,
     "metadata": {},
     "output_type": "execute_result"
    }
   ],
   "source": [
    "sentence_scores"
   ]
  },
  {
   "cell_type": "code",
   "execution_count": 30,
   "id": "6b22c60e",
   "metadata": {},
   "outputs": [],
   "source": [
    "from heapq import nlargest"
   ]
  },
  {
   "cell_type": "code",
   "execution_count": 31,
   "id": "43f1577d",
   "metadata": {},
   "outputs": [
    {
     "data": {
      "text/plain": [
       "5"
      ]
     },
     "execution_count": 31,
     "metadata": {},
     "output_type": "execute_result"
    }
   ],
   "source": [
    "select_length = int(len(sentence_tokens)*0.4)\n",
    "select_length"
   ]
  },
  {
   "cell_type": "code",
   "execution_count": 32,
   "id": "1f84d674",
   "metadata": {},
   "outputs": [
    {
     "data": {
      "text/plain": [
       "[Text summarization is useful for quickly understanding the content of lengthy documents, news articles, research papers, and other text-heavy materials\n",
       " There are two main approaches to text summarization:\n",
       " ,\n",
       " Abstractive Summarization: Abstractive summarization, on the other hand, involves generating new sentences that capture the essence of the original text in a more concise and coherent manner.,\n",
       " Abstractive summarization involves generating new sentences that convey the main ideas of the original text in a more concise form.,\n",
       " Extractive summarization involves selecting important sentences or phrases directly from the original text and concatenating them to form a summary.,\n",
       " Text summarization aims to condense a large piece of text into a shorter, coherent summary while retaining its key information.]"
      ]
     },
     "execution_count": 32,
     "metadata": {},
     "output_type": "execute_result"
    }
   ],
   "source": [
    "summary = nlargest(select_length, sentence_scores, key = sentence_scores.get)\n",
    "summary"
   ]
  },
  {
   "cell_type": "code",
   "execution_count": 33,
   "id": "4e59dbf6",
   "metadata": {},
   "outputs": [
    {
     "data": {
      "text/plain": [
       "{ \n",
       " Text Summarization:\n",
       " Purpose:: 2.6363636363636362,\n",
       " Text summarization aims to condense a large piece of text into a shorter, coherent summary while retaining its key information.: 4.909090909090908,\n",
       " Methods: There are two main approaches to text summarization: extractive and abstractive.: 3.454545454545454,\n",
       " Extractive summarization involves selecting important sentences or phrases directly from the original text and concatenating them to form a summary.: 5.2727272727272725,\n",
       " Abstractive summarization involves generating new sentences that convey the main ideas of the original text in a more concise form.: 5.545454545454545,\n",
       " Text summarization is useful for quickly understanding the content of lengthy documents, news articles, research papers, and other text-heavy materials\n",
       " There are two main approaches to text summarization:\n",
       " : 7.181818181818181,\n",
       " 1.: 0.09090909090909091,\n",
       " Extractive summarization involves selecting and extracting important sentences or passages directly from the original text to form the summary.: 4.636363636363636,\n",
       " These selected sentences are typically the ones that contain the most relevant information and are representative of the main ideas of the text.: 2.727272727272727,\n",
       " Extractive summarization does not generate new text but rather reuses existing content.: 3.454545454545454,\n",
       " 2.: 0.09090909090909091,\n",
       " Abstractive Summarization: Abstractive summarization, on the other hand, involves generating new sentences that capture the essence of the original text in a more concise and coherent manner.: 5.636363636363636,\n",
       " Unlike extractive summarization, abstractive summarization can rephrase and condense the information into a more compact form, potentially using different wording and sentence structures.: 3.818181818181818}"
      ]
     },
     "execution_count": 33,
     "metadata": {},
     "output_type": "execute_result"
    }
   ],
   "source": [
    "sentence_scores"
   ]
  },
  {
   "cell_type": "code",
   "execution_count": 34,
   "id": "4593a4a0",
   "metadata": {},
   "outputs": [
    {
     "data": {
      "text/plain": [
       "['Text summarization is useful for quickly understanding the content of lengthy documents, news articles, research papers, and other text-heavy materials\\nThere are two main approaches to text summarization:\\n\\n',\n",
       " 'Abstractive Summarization: Abstractive summarization, on the other hand, involves generating new sentences that capture the essence of the original text in a more concise and coherent manner.',\n",
       " 'Abstractive summarization involves generating new sentences that convey the main ideas of the original text in a more concise form.\\n',\n",
       " 'Extractive summarization involves selecting important sentences or phrases directly from the original text and concatenating them to form a summary.\\n',\n",
       " 'Text summarization aims to condense a large piece of text into a shorter, coherent summary while retaining its key information.\\n']"
      ]
     },
     "execution_count": 34,
     "metadata": {},
     "output_type": "execute_result"
    }
   ],
   "source": [
    "final_summary = [word.text for word in summary]\n",
    "final_summary"
   ]
  },
  {
   "cell_type": "code",
   "execution_count": 35,
   "id": "be3d5d5f",
   "metadata": {},
   "outputs": [
    {
     "name": "stdout",
     "output_type": "stream",
     "text": [
      "[Text summarization is useful for quickly understanding the content of lengthy documents, news articles, research papers, and other text-heavy materials\n",
      "There are two main approaches to text summarization:\n",
      "\n",
      ", Abstractive Summarization: Abstractive summarization, on the other hand, involves generating new sentences that capture the essence of the original text in a more concise and coherent manner., Abstractive summarization involves generating new sentences that convey the main ideas of the original text in a more concise form.\n",
      ", Extractive summarization involves selecting important sentences or phrases directly from the original text and concatenating them to form a summary.\n",
      ", Text summarization aims to condense a large piece of text into a shorter, coherent summary while retaining its key information.\n",
      "]\n"
     ]
    }
   ],
   "source": [
    "print(summary)"
   ]
  },
  {
   "cell_type": "code",
   "execution_count": null,
   "id": "309c7cce",
   "metadata": {},
   "outputs": [],
   "source": []
  },
  {
   "cell_type": "code",
   "execution_count": null,
   "id": "a547aed2",
   "metadata": {},
   "outputs": [],
   "source": []
  }
 ],
 "metadata": {
  "kernelspec": {
   "display_name": "Python 3 (ipykernel)",
   "language": "python",
   "name": "python3"
  },
  "language_info": {
   "codemirror_mode": {
    "name": "ipython",
    "version": 3
   },
   "file_extension": ".py",
   "mimetype": "text/x-python",
   "name": "python",
   "nbconvert_exporter": "python",
   "pygments_lexer": "ipython3",
   "version": "3.10.9"
  }
 },
 "nbformat": 4,
 "nbformat_minor": 5
}
