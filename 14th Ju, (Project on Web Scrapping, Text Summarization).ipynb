{
 "cells": [
  {
   "cell_type": "code",
   "execution_count": 1,
   "id": "948abb9f",
   "metadata": {},
   "outputs": [
    {
     "name": "stdout",
     "output_type": "stream",
     "text": [
      "Requirement already satisfied: spacy in c:\\users\\hp\\downloads\\new folder\\lib\\site-packages (3.6.0)\n",
      "Requirement already satisfied: setuptools in c:\\users\\hp\\downloads\\new folder\\lib\\site-packages (from spacy) (65.6.3)\n",
      "Requirement already satisfied: catalogue<2.1.0,>=2.0.6 in c:\\users\\hp\\downloads\\new folder\\lib\\site-packages (from spacy) (2.0.8)\n",
      "Requirement already satisfied: spacy-legacy<3.1.0,>=3.0.11 in c:\\users\\hp\\downloads\\new folder\\lib\\site-packages (from spacy) (3.0.12)\n",
      "Requirement already satisfied: pathy>=0.10.0 in c:\\users\\hp\\downloads\\new folder\\lib\\site-packages (from spacy) (0.10.2)\n",
      "Requirement already satisfied: wasabi<1.2.0,>=0.9.1 in c:\\users\\hp\\downloads\\new folder\\lib\\site-packages (from spacy) (1.1.2)\n",
      "Requirement already satisfied: murmurhash<1.1.0,>=0.28.0 in c:\\users\\hp\\downloads\\new folder\\lib\\site-packages (from spacy) (1.0.9)\n",
      "Requirement already satisfied: packaging>=20.0 in c:\\users\\hp\\downloads\\new folder\\lib\\site-packages (from spacy) (22.0)\n",
      "Requirement already satisfied: thinc<8.2.0,>=8.1.8 in c:\\users\\hp\\downloads\\new folder\\lib\\site-packages (from spacy) (8.1.10)\n",
      "Requirement already satisfied: srsly<3.0.0,>=2.4.3 in c:\\users\\hp\\downloads\\new folder\\lib\\site-packages (from spacy) (2.4.7)\n",
      "Requirement already satisfied: cymem<2.1.0,>=2.0.2 in c:\\users\\hp\\downloads\\new folder\\lib\\site-packages (from spacy) (2.0.7)\n",
      "Requirement already satisfied: tqdm<5.0.0,>=4.38.0 in c:\\users\\hp\\downloads\\new folder\\lib\\site-packages (from spacy) (4.64.1)\n",
      "Requirement already satisfied: requests<3.0.0,>=2.13.0 in c:\\users\\hp\\downloads\\new folder\\lib\\site-packages (from spacy) (2.28.1)\n",
      "Requirement already satisfied: typer<0.10.0,>=0.3.0 in c:\\users\\hp\\downloads\\new folder\\lib\\site-packages (from spacy) (0.9.0)\n",
      "Requirement already satisfied: pydantic!=1.8,!=1.8.1,<1.11.0,>=1.7.4 in c:\\users\\hp\\downloads\\new folder\\lib\\site-packages (from spacy) (1.10.11)\n",
      "Requirement already satisfied: jinja2 in c:\\users\\hp\\downloads\\new folder\\lib\\site-packages (from spacy) (3.1.2)\n",
      "Requirement already satisfied: spacy-loggers<2.0.0,>=1.0.0 in c:\\users\\hp\\downloads\\new folder\\lib\\site-packages (from spacy) (1.0.4)\n",
      "Requirement already satisfied: preshed<3.1.0,>=3.0.2 in c:\\users\\hp\\downloads\\new folder\\lib\\site-packages (from spacy) (3.0.8)\n",
      "Requirement already satisfied: langcodes<4.0.0,>=3.2.0 in c:\\users\\hp\\downloads\\new folder\\lib\\site-packages (from spacy) (3.3.0)\n",
      "Requirement already satisfied: smart-open<7.0.0,>=5.2.1 in c:\\users\\hp\\downloads\\new folder\\lib\\site-packages (from spacy) (5.2.1)\n",
      "Requirement already satisfied: numpy>=1.15.0 in c:\\users\\hp\\downloads\\new folder\\lib\\site-packages (from spacy) (1.23.5)\n",
      "Requirement already satisfied: typing-extensions>=4.2.0 in c:\\users\\hp\\downloads\\new folder\\lib\\site-packages (from pydantic!=1.8,!=1.8.1,<1.11.0,>=1.7.4->spacy) (4.4.0)\n",
      "Requirement already satisfied: idna<4,>=2.5 in c:\\users\\hp\\downloads\\new folder\\lib\\site-packages (from requests<3.0.0,>=2.13.0->spacy) (3.4)\n",
      "Requirement already satisfied: certifi>=2017.4.17 in c:\\users\\hp\\downloads\\new folder\\lib\\site-packages (from requests<3.0.0,>=2.13.0->spacy) (2023.11.17)\n",
      "Requirement already satisfied: urllib3<1.27,>=1.21.1 in c:\\users\\hp\\downloads\\new folder\\lib\\site-packages (from requests<3.0.0,>=2.13.0->spacy) (1.26.14)\n",
      "Requirement already satisfied: charset-normalizer<3,>=2 in c:\\users\\hp\\downloads\\new folder\\lib\\site-packages (from requests<3.0.0,>=2.13.0->spacy) (2.0.4)\n",
      "Requirement already satisfied: confection<1.0.0,>=0.0.1 in c:\\users\\hp\\downloads\\new folder\\lib\\site-packages (from thinc<8.2.0,>=8.1.8->spacy) (0.1.0)\n",
      "Requirement already satisfied: blis<0.8.0,>=0.7.8 in c:\\users\\hp\\downloads\\new folder\\lib\\site-packages (from thinc<8.2.0,>=8.1.8->spacy) (0.7.9)\n",
      "Requirement already satisfied: colorama in c:\\users\\hp\\downloads\\new folder\\lib\\site-packages (from tqdm<5.0.0,>=4.38.0->spacy) (0.4.6)\n",
      "Requirement already satisfied: click<9.0.0,>=7.1.1 in c:\\users\\hp\\downloads\\new folder\\lib\\site-packages (from typer<0.10.0,>=0.3.0->spacy) (8.0.4)\n",
      "Requirement already satisfied: MarkupSafe>=2.0 in c:\\users\\hp\\downloads\\new folder\\lib\\site-packages (from jinja2->spacy) (2.1.1)\n"
     ]
    }
   ],
   "source": [
    "!pip install spacy\n",
    "#python-m spacy download en_core_web_sm"
   ]
  },
  {
   "cell_type": "code",
   "execution_count": 3,
   "id": "bbe0cbac",
   "metadata": {},
   "outputs": [
    {
     "data": {
      "text/plain": [
       "data science and ai has greate career ahead"
      ]
     },
     "execution_count": 3,
     "metadata": {},
     "output_type": "execute_result"
    }
   ],
   "source": [
    "import spacy\n",
    "nlp = spacy.load(\"en_core_web_sm\")\n",
    "doc = nlp(\"data science and ai has greate career ahead\")\n",
    "doc\n",
    "\n"
   ]
  },
  {
   "cell_type": "code",
   "execution_count": 4,
   "id": "87780b5b",
   "metadata": {},
   "outputs": [
    {
     "name": "stdout",
     "output_type": "stream",
     "text": [
      "data\n",
      "science\n",
      "and\n",
      "ai\n",
      "has\n",
      "greate\n",
      "career\n",
      "ahead\n"
     ]
    }
   ],
   "source": [
    "for token in doc: \n",
    "    print(token.text)\n",
    "    "
   ]
  },
  {
   "cell_type": "code",
   "execution_count": 5,
   "id": "caa491a1",
   "metadata": {},
   "outputs": [
    {
     "name": "stdout",
     "output_type": "stream",
     "text": [
      "NOUN\n",
      "NOUN\n",
      "CCONJ\n",
      "AUX\n",
      "VERB\n",
      "ADJ\n",
      "NOUN\n",
      "ADV\n"
     ]
    }
   ],
   "source": [
    "for token in doc: \n",
    "    print(token.pos_)"
   ]
  },
  {
   "cell_type": "code",
   "execution_count": 6,
   "id": "b3f36c83",
   "metadata": {},
   "outputs": [
    {
     "name": "stdout",
     "output_type": "stream",
     "text": [
      "data NOUN\n",
      "science NOUN\n",
      "and CCONJ\n",
      "ai AUX\n",
      "has VERB\n",
      "greate ADJ\n",
      "career NOUN\n",
      "ahead ADV\n"
     ]
    }
   ],
   "source": [
    "for token in doc: \n",
    "    print(token.text, token.pos_)"
   ]
  },
  {
   "cell_type": "code",
   "execution_count": 8,
   "id": "aa6dd8ae",
   "metadata": {},
   "outputs": [],
   "source": [
    "import spacy\n",
    "from spacy.lang.en.stop_words import STOP_WORDS\n",
    "from string import punctuation"
   ]
  },
  {
   "cell_type": "code",
   "execution_count": 9,
   "id": "dd10361e",
   "metadata": {},
   "outputs": [
    {
     "data": {
      "text/plain": [
       "['anywhere',\n",
       " '‘ll',\n",
       " 'name',\n",
       " 'may',\n",
       " 'hereupon',\n",
       " 'throughout',\n",
       " 'therein',\n",
       " 'latterly',\n",
       " 'became',\n",
       " 'whom',\n",
       " 'still',\n",
       " 'indeed',\n",
       " 'mostly',\n",
       " 'nowhere',\n",
       " '‘m',\n",
       " 'anything',\n",
       " 'per',\n",
       " 'even',\n",
       " '‘s',\n",
       " 'sometimes',\n",
       " 'meanwhile',\n",
       " 'been',\n",
       " 'everyone',\n",
       " 'has',\n",
       " 'bottom',\n",
       " 'three',\n",
       " '‘d',\n",
       " 'seems',\n",
       " 'therefore',\n",
       " 'due',\n",
       " 'whence',\n",
       " 'thereupon',\n",
       " 'afterwards',\n",
       " 'too',\n",
       " 'them',\n",
       " 'side',\n",
       " 'thru',\n",
       " 'over',\n",
       " 'using',\n",
       " 'were',\n",
       " 'does',\n",
       " 'less',\n",
       " 'formerly',\n",
       " 'beside',\n",
       " 'n‘t',\n",
       " 'any',\n",
       " 'own',\n",
       " 'many',\n",
       " 'although',\n",
       " 'latter',\n",
       " 'themselves',\n",
       " 'perhaps',\n",
       " 'sixty',\n",
       " 'can',\n",
       " 'just',\n",
       " 'if',\n",
       " 'somewhere',\n",
       " 'to',\n",
       " 'or',\n",
       " 'while',\n",
       " '’d',\n",
       " 'toward',\n",
       " 'amount',\n",
       " 'at',\n",
       " 'by',\n",
       " 'the',\n",
       " 'nevertheless',\n",
       " 'amongst',\n",
       " 'for',\n",
       " 'along',\n",
       " 'last',\n",
       " 'fifty',\n",
       " 'every',\n",
       " \"'ve\",\n",
       " 'would',\n",
       " '‘re',\n",
       " 'here',\n",
       " 'out',\n",
       " 'twelve',\n",
       " 'put',\n",
       " 'elsewhere',\n",
       " 'up',\n",
       " 'move',\n",
       " 'myself',\n",
       " 'however',\n",
       " 'much',\n",
       " 'are',\n",
       " 'both',\n",
       " 'mine',\n",
       " 'whenever',\n",
       " 'moreover',\n",
       " '’m',\n",
       " 'whereby',\n",
       " 'had',\n",
       " 'almost',\n",
       " 'he',\n",
       " 'should',\n",
       " 'please',\n",
       " 'hers',\n",
       " 'might',\n",
       " 'wherever',\n",
       " 'being',\n",
       " 'yours',\n",
       " 'under',\n",
       " '‘ve',\n",
       " 'down',\n",
       " 'really',\n",
       " 'a',\n",
       " 'whereupon',\n",
       " 'whoever',\n",
       " 'in',\n",
       " 'they',\n",
       " 'ourselves',\n",
       " 'during',\n",
       " 'himself',\n",
       " 'yourselves',\n",
       " 'off',\n",
       " 'first',\n",
       " 'so',\n",
       " 'these',\n",
       " 'also',\n",
       " 'onto',\n",
       " 'becoming',\n",
       " 'before',\n",
       " 'becomes',\n",
       " 'keep',\n",
       " 'their',\n",
       " 'everything',\n",
       " 'seemed',\n",
       " 'did',\n",
       " 'except',\n",
       " 'yourself',\n",
       " 'each',\n",
       " 'herself',\n",
       " 'me',\n",
       " 'eleven',\n",
       " 'then',\n",
       " 'which',\n",
       " 'everywhere',\n",
       " 'more',\n",
       " 'beforehand',\n",
       " 'go',\n",
       " 'well',\n",
       " 'see',\n",
       " 'same',\n",
       " \"'d\",\n",
       " 'various',\n",
       " 'nobody',\n",
       " 'with',\n",
       " 'neither',\n",
       " 'forty',\n",
       " \"'m\",\n",
       " 'several',\n",
       " 'though',\n",
       " 'now',\n",
       " 'no',\n",
       " 'through',\n",
       " 'together',\n",
       " 'could',\n",
       " 'whereas',\n",
       " 'nine',\n",
       " \"'re\",\n",
       " 'be',\n",
       " 'itself',\n",
       " '’ve',\n",
       " 'is',\n",
       " 'because',\n",
       " 'doing',\n",
       " 'six',\n",
       " 'others',\n",
       " 'once',\n",
       " 'twenty',\n",
       " 'seeming',\n",
       " 'alone',\n",
       " 'unless',\n",
       " 'thus',\n",
       " 'get',\n",
       " 'our',\n",
       " 'further',\n",
       " 'than',\n",
       " 'ever',\n",
       " 'and',\n",
       " 'why',\n",
       " 'none',\n",
       " 'must',\n",
       " 'cannot',\n",
       " 'top',\n",
       " 'since',\n",
       " 'all',\n",
       " 'whole',\n",
       " 'via',\n",
       " 'how',\n",
       " 'besides',\n",
       " 'ten',\n",
       " 'hence',\n",
       " 'part',\n",
       " 'never',\n",
       " 'until',\n",
       " 'am',\n",
       " 'into',\n",
       " 'used',\n",
       " 'either',\n",
       " 'anyhow',\n",
       " 'below',\n",
       " 'after',\n",
       " 'that',\n",
       " 'give',\n",
       " 'herein',\n",
       " 'anyone',\n",
       " 'four',\n",
       " 'make',\n",
       " 'other',\n",
       " 'but',\n",
       " \"'s\",\n",
       " 'somehow',\n",
       " 'someone',\n",
       " 'what',\n",
       " 'i',\n",
       " 'often',\n",
       " 'your',\n",
       " 'rather',\n",
       " 'him',\n",
       " 'serious',\n",
       " 'whether',\n",
       " 'his',\n",
       " 'few',\n",
       " 'ours',\n",
       " \"'ll\",\n",
       " 'n’t',\n",
       " 'take',\n",
       " 'its',\n",
       " 'anyway',\n",
       " 'there',\n",
       " 'hereby',\n",
       " 'enough',\n",
       " 'she',\n",
       " 'something',\n",
       " 'third',\n",
       " 'against',\n",
       " 'you',\n",
       " 'beyond',\n",
       " 'otherwise',\n",
       " 'again',\n",
       " 'whereafter',\n",
       " 'above',\n",
       " 'her',\n",
       " 'it',\n",
       " 'one',\n",
       " 'full',\n",
       " 'front',\n",
       " 'upon',\n",
       " '’ll',\n",
       " 'my',\n",
       " 'when',\n",
       " 'nor',\n",
       " 'noone',\n",
       " 'among',\n",
       " 'have',\n",
       " 'another',\n",
       " 'quite',\n",
       " 'sometime',\n",
       " 'namely',\n",
       " 'wherein',\n",
       " 'five',\n",
       " 'always',\n",
       " 'say',\n",
       " 'where',\n",
       " 'empty',\n",
       " 'already',\n",
       " 'become',\n",
       " 'nothing',\n",
       " 'between',\n",
       " 'whose',\n",
       " 'will',\n",
       " 'most',\n",
       " 'hundred',\n",
       " 'eight',\n",
       " 'hereafter',\n",
       " 'show',\n",
       " 'across',\n",
       " 'from',\n",
       " 'on',\n",
       " 'ca',\n",
       " 'made',\n",
       " 'next',\n",
       " 'those',\n",
       " 're',\n",
       " 'very',\n",
       " '’re',\n",
       " 'whatever',\n",
       " 'regarding',\n",
       " 'us',\n",
       " '’s',\n",
       " 'else',\n",
       " 'some',\n",
       " 'within',\n",
       " 'about',\n",
       " 'without',\n",
       " 'two',\n",
       " 'such',\n",
       " 'former',\n",
       " 'towards',\n",
       " 'around',\n",
       " 'call',\n",
       " 'we',\n",
       " 'not',\n",
       " 'of',\n",
       " 'back',\n",
       " 'do',\n",
       " 'behind',\n",
       " 'who',\n",
       " 'seem',\n",
       " 'this',\n",
       " 'thereby',\n",
       " 'whither',\n",
       " \"n't\",\n",
       " 'as',\n",
       " 'done',\n",
       " 'yet',\n",
       " 'least',\n",
       " 'an',\n",
       " 'only',\n",
       " 'thence',\n",
       " 'thereafter',\n",
       " 'was',\n",
       " 'fifteen']"
      ]
     },
     "execution_count": 9,
     "metadata": {},
     "output_type": "execute_result"
    }
   ],
   "source": [
    "stopwords = list(STOP_WORDS)\n",
    "stopwords"
   ]
  },
  {
   "cell_type": "code",
   "execution_count": 10,
   "id": "1801791a",
   "metadata": {},
   "outputs": [
    {
     "data": {
      "text/plain": [
       "326"
      ]
     },
     "execution_count": 10,
     "metadata": {},
     "output_type": "execute_result"
    }
   ],
   "source": [
    "len(stopwords)"
   ]
  },
  {
   "cell_type": "code",
   "execution_count": 11,
   "id": "19ef55fa",
   "metadata": {},
   "outputs": [],
   "source": [
    "nlp = spacy.load('en_core_web_sm')"
   ]
  },
  {
   "cell_type": "code",
   "execution_count": 13,
   "id": "d7d28cdf",
   "metadata": {},
   "outputs": [
    {
     "data": {
      "text/plain": [
       "' The AI full form  is artificial intelligent'"
      ]
     },
     "execution_count": 13,
     "metadata": {},
     "output_type": "execute_result"
    }
   ],
   "source": [
    "text = (\"\"\" The AI full form  is artificial intelligent\"\"\") \n",
    "text"
   ]
  },
  {
   "cell_type": "code",
   "execution_count": 14,
   "id": "2f0a2240",
   "metadata": {},
   "outputs": [
    {
     "data": {
      "text/plain": [
       " The AI full form  is artificial intelligent"
      ]
     },
     "execution_count": 14,
     "metadata": {},
     "output_type": "execute_result"
    }
   ],
   "source": [
    "doc = nlp(text)\n",
    "doc"
   ]
  },
  {
   "cell_type": "code",
   "execution_count": 15,
   "id": "5c2cdb82",
   "metadata": {},
   "outputs": [
    {
     "name": "stdout",
     "output_type": "stream",
     "text": [
      "[' ', 'The', 'AI', 'full', 'form', ' ', 'is', 'artificial', 'intelligent']\n"
     ]
    }
   ],
   "source": [
    "tokens = [token.text for token in doc]\n",
    "print(tokens)"
   ]
  },
  {
   "cell_type": "code",
   "execution_count": 16,
   "id": "4fcde685",
   "metadata": {},
   "outputs": [
    {
     "data": {
      "text/plain": [
       "[' ', 'The', 'AI', 'full', 'form', ' ', 'is', 'artificial', 'intelligent']"
      ]
     },
     "execution_count": 16,
     "metadata": {},
     "output_type": "execute_result"
    }
   ],
   "source": [
    "tokens "
   ]
  },
  {
   "cell_type": "code",
   "execution_count": 17,
   "id": "5de20337",
   "metadata": {},
   "outputs": [
    {
     "data": {
      "text/plain": [
       "9"
      ]
     },
     "execution_count": 17,
     "metadata": {},
     "output_type": "execute_result"
    }
   ],
   "source": [
    "len(tokens)"
   ]
  },
  {
   "cell_type": "code",
   "execution_count": 18,
   "id": "f2615ee6",
   "metadata": {},
   "outputs": [
    {
     "data": {
      "text/plain": [
       "'!\"#$%&\\'()*+,-./:;<=>?@[\\\\]^_`{|}~'"
      ]
     },
     "execution_count": 18,
     "metadata": {},
     "output_type": "execute_result"
    }
   ],
   "source": [
    "punctuation"
   ]
  },
  {
   "cell_type": "code",
   "execution_count": 19,
   "id": "7bd91350",
   "metadata": {},
   "outputs": [
    {
     "data": {
      "text/plain": [
       " The AI full form  is artificial intelligent"
      ]
     },
     "execution_count": 19,
     "metadata": {},
     "output_type": "execute_result"
    }
   ],
   "source": [
    "doc"
   ]
  },
  {
   "cell_type": "code",
   "execution_count": 23,
   "id": "4638a760",
   "metadata": {},
   "outputs": [],
   "source": [
    "word_frequencies = {}\n",
    "for word in doc: \n",
    "    if word.text.lower() not in stopwords: \n",
    "        if word.text.lower() not in punctuation: \n",
    "            if word.text not in word_frequencies.keys(): \n",
    "                word_frequencies[word.text] = 1\n",
    "            else:\n",
    "                    word_frequencies[word.text] += 1"
   ]
  },
  {
   "cell_type": "code",
   "execution_count": 24,
   "id": "530e01e0",
   "metadata": {},
   "outputs": [
    {
     "data": {
      "text/plain": [
       "{' ': 2, 'AI': 1, 'form': 1, 'artificial': 1, 'intelligent': 1}"
      ]
     },
     "execution_count": 24,
     "metadata": {},
     "output_type": "execute_result"
    }
   ],
   "source": [
    "word_frequencies"
   ]
  },
  {
   "cell_type": "code",
   "execution_count": 25,
   "id": "16d58a10",
   "metadata": {},
   "outputs": [
    {
     "data": {
      "text/plain": [
       "5"
      ]
     },
     "execution_count": 25,
     "metadata": {},
     "output_type": "execute_result"
    }
   ],
   "source": [
    "len(word_frequencies)"
   ]
  },
  {
   "cell_type": "code",
   "execution_count": 26,
   "id": "9a39b23a",
   "metadata": {},
   "outputs": [
    {
     "data": {
      "text/plain": [
       "{' ': 2, 'AI': 1, 'form': 1, 'artificial': 1, 'intelligent': 1}"
      ]
     },
     "execution_count": 26,
     "metadata": {},
     "output_type": "execute_result"
    }
   ],
   "source": [
    "word_frequencies"
   ]
  },
  {
   "cell_type": "code",
   "execution_count": 27,
   "id": "1d9a821b",
   "metadata": {},
   "outputs": [
    {
     "data": {
      "text/plain": [
       "2"
      ]
     },
     "execution_count": 27,
     "metadata": {},
     "output_type": "execute_result"
    }
   ],
   "source": [
    "max_frequency = max(word_frequencies.values())\n",
    "max_frequency"
   ]
  },
  {
   "cell_type": "code",
   "execution_count": 29,
   "id": "b2f4ecaf",
   "metadata": {},
   "outputs": [],
   "source": [
    "for word in word_frequencies.keys():\n",
    "    word_frequencies[word] = word_frequencies[word]/max_frequency"
   ]
  },
  {
   "cell_type": "code",
   "execution_count": 30,
   "id": "8a9fef93",
   "metadata": {},
   "outputs": [
    {
     "data": {
      "text/plain": [
       "{' ': 1.0, 'AI': 0.5, 'form': 0.5, 'artificial': 0.5, 'intelligent': 0.5}"
      ]
     },
     "execution_count": 30,
     "metadata": {},
     "output_type": "execute_result"
    }
   ],
   "source": [
    "word_frequencies"
   ]
  },
  {
   "cell_type": "code",
   "execution_count": 31,
   "id": "7b9aca5e",
   "metadata": {},
   "outputs": [
    {
     "data": {
      "text/plain": [
       "[ The AI full form  is artificial intelligent]"
      ]
     },
     "execution_count": 31,
     "metadata": {},
     "output_type": "execute_result"
    }
   ],
   "source": [
    "sentence_tokens = [sent for sent in doc.sents]\n",
    "sentence_tokens\n"
   ]
  },
  {
   "cell_type": "code",
   "execution_count": 32,
   "id": "43ba2818",
   "metadata": {},
   "outputs": [
    {
     "data": {
      "text/plain": [
       "1"
      ]
     },
     "execution_count": 32,
     "metadata": {},
     "output_type": "execute_result"
    }
   ],
   "source": [
    "len(sentence_tokens)"
   ]
  },
  {
   "cell_type": "code",
   "execution_count": 33,
   "id": "9e0cfc5d",
   "metadata": {},
   "outputs": [
    {
     "data": {
      "text/plain": [
       "[ The AI full form  is artificial intelligent]"
      ]
     },
     "execution_count": 33,
     "metadata": {},
     "output_type": "execute_result"
    }
   ],
   "source": [
    "sentence_tokens"
   ]
  },
  {
   "cell_type": "code",
   "execution_count": 37,
   "id": "851b8059",
   "metadata": {},
   "outputs": [],
   "source": [
    "sentence_scores = {}\n",
    "for sent in sentence_tokens: \n",
    "    for word in sent: \n",
    "        if word.text.lower() in word_frequencies.keys():\n",
    "            if sent not in sentence_scores.keys(): \n",
    "                sentence_scores[sent] = word_frequencies[word.text.lower()]\n",
    "            else: \n",
    "                    sentence_scores[sent]+= word_frequencies[word.text.lower()]\n",
    "                    \n",
    "             "
   ]
  },
  {
   "cell_type": "code",
   "execution_count": 38,
   "id": "c1fb10d1",
   "metadata": {},
   "outputs": [
    {
     "data": {
      "text/plain": [
       "{ The AI full form  is artificial intelligent: 3.5}"
      ]
     },
     "execution_count": 38,
     "metadata": {},
     "output_type": "execute_result"
    }
   ],
   "source": [
    "sentence_scores"
   ]
  },
  {
   "cell_type": "code",
   "execution_count": 39,
   "id": "6b22c60e",
   "metadata": {},
   "outputs": [],
   "source": [
    "from heapq import nlargest"
   ]
  },
  {
   "cell_type": "code",
   "execution_count": 40,
   "id": "43f1577d",
   "metadata": {},
   "outputs": [
    {
     "data": {
      "text/plain": [
       "0"
      ]
     },
     "execution_count": 40,
     "metadata": {},
     "output_type": "execute_result"
    }
   ],
   "source": [
    "select_length = int(len(sentence_tokens)*0.4)\n",
    "select_length"
   ]
  },
  {
   "cell_type": "code",
   "execution_count": 42,
   "id": "1f84d674",
   "metadata": {},
   "outputs": [
    {
     "data": {
      "text/plain": [
       "[]"
      ]
     },
     "execution_count": 42,
     "metadata": {},
     "output_type": "execute_result"
    }
   ],
   "source": [
    "summary = nlargest(select_length, sentence_scores, key = sentence_scores.get)\n",
    "summary"
   ]
  },
  {
   "cell_type": "code",
   "execution_count": 43,
   "id": "4e59dbf6",
   "metadata": {},
   "outputs": [
    {
     "data": {
      "text/plain": [
       "{ The AI full form  is artificial intelligent: 3.5}"
      ]
     },
     "execution_count": 43,
     "metadata": {},
     "output_type": "execute_result"
    }
   ],
   "source": [
    "sentence_scores"
   ]
  },
  {
   "cell_type": "code",
   "execution_count": 44,
   "id": "4593a4a0",
   "metadata": {},
   "outputs": [
    {
     "data": {
      "text/plain": [
       "[]"
      ]
     },
     "execution_count": 44,
     "metadata": {},
     "output_type": "execute_result"
    }
   ],
   "source": [
    "final_summary = [word.text for word in summary]\n",
    "final_summary"
   ]
  },
  {
   "cell_type": "code",
   "execution_count": 45,
   "id": "be3d5d5f",
   "metadata": {},
   "outputs": [
    {
     "name": "stdout",
     "output_type": "stream",
     "text": [
      "[]\n"
     ]
    }
   ],
   "source": [
    "print(summary)"
   ]
  },
  {
   "cell_type": "code",
   "execution_count": null,
   "id": "b3479323",
   "metadata": {},
   "outputs": [],
   "source": []
  }
 ],
 "metadata": {
  "kernelspec": {
   "display_name": "Python 3 (ipykernel)",
   "language": "python",
   "name": "python3"
  },
  "language_info": {
   "codemirror_mode": {
    "name": "ipython",
    "version": 3
   },
   "file_extension": ".py",
   "mimetype": "text/x-python",
   "name": "python",
   "nbconvert_exporter": "python",
   "pygments_lexer": "ipython3",
   "version": "3.10.9"
  }
 },
 "nbformat": 4,
 "nbformat_minor": 5
}
